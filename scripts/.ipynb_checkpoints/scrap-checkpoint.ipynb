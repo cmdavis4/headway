{
 "cells": [
  {
   "cell_type": "code",
   "execution_count": 2,
   "metadata": {
    "collapsed": false
   },
   "outputs": [],
   "source": [
    "import pandas as pd\n",
    "import requests\n",
    "import sys\n",
    "sys.path.append('/Users/charlesdavis/headway')\n",
    "\n",
    "from utils.nextmuni import fetch_predictions_by_route\n",
    "\n",
    "pred = fetch_predictions_by_route(5)"
   ]
  },
  {
   "cell_type": "code",
   "execution_count": 90,
   "metadata": {
    "collapsed": false
   },
   "outputs": [],
   "source": [
    "def process_stop_direction(stop, stop_dict, direction):\n",
    "    stop_dict[stop['@stopTag']] = [\n",
    "        (\n",
    "            x['@vehicle'],\n",
    "            x['@dirTag'],\n",
    "            x['@tripTag'],\n",
    "            x['@seconds'],\n",
    "        )\n",
    "        for x in direction['prediction']\n",
    "    ]\n",
    "    \n",
    "\n",
    "stop_dict = {}\n",
    "for stop in pred['predictions']:\n",
    "    if 'direction' in stop.keys():\n",
    "        if type(stop['direction']) == list:\n",
    "            for direction in stop['direction']:\n",
    "                process_stop_direction(stop, stop_dict, direction)\n",
    "        else:\n",
    "            process_stop_direction(stop, stop_dict, stop['direction'])"
   ]
  },
  {
   "cell_type": "code",
   "execution_count": 94,
   "metadata": {
    "collapsed": false
   },
   "outputs": [
    {
     "data": {
      "text/plain": [
       "[OrderedDict([('@title', 'Inbound to Transbay Terminal'),\n",
       "              ('prediction',\n",
       "               [OrderedDict([('@epochTime', '1467609140127'),\n",
       "                             ('@seconds', '714'),\n",
       "                             ('@minutes', '11'),\n",
       "                             ('@isDeparture', 'false'),\n",
       "                             ('@affectedByLayover', 'true'),\n",
       "                             ('@dirTag', '5____I_F00'),\n",
       "                             ('@vehicle', '5441'),\n",
       "                             ('@block', '0592'),\n",
       "                             ('@tripTag', '7216455')]),\n",
       "                OrderedDict([('@epochTime', '1467610340127'),\n",
       "                             ('@seconds', '1914'),\n",
       "                             ('@minutes', '31'),\n",
       "                             ('@isDeparture', 'false'),\n",
       "                             ('@affectedByLayover', 'true'),\n",
       "                             ('@dirTag', '5____I_F00'),\n",
       "                             ('@vehicle', '5401'),\n",
       "                             ('@block', '0509'),\n",
       "                             ('@tripTag', '7216456')]),\n",
       "                OrderedDict([('@epochTime', '1467611540127'),\n",
       "                             ('@seconds', '3114'),\n",
       "                             ('@minutes', '51'),\n",
       "                             ('@isDeparture', 'false'),\n",
       "                             ('@affectedByLayover', 'true'),\n",
       "                             ('@dirTag', '5____I_F00'),\n",
       "                             ('@vehicle', '5443'),\n",
       "                             ('@block', '0502'),\n",
       "                             ('@tripTag', '7216489')]),\n",
       "                OrderedDict([('@epochTime', '1467612740127'),\n",
       "                             ('@seconds', '4314'),\n",
       "                             ('@minutes', '71'),\n",
       "                             ('@isDeparture', 'false'),\n",
       "                             ('@affectedByLayover', 'true'),\n",
       "                             ('@dirTag', '5____I_F00'),\n",
       "                             ('@vehicle', '5486'),\n",
       "                             ('@block', '0511'),\n",
       "                             ('@tripTag', '7216457')])])]),\n",
       " OrderedDict([('@title', 'Inbound to Sixth Avenue'),\n",
       "              ('prediction',\n",
       "               OrderedDict([('@epochTime', '1467610403961'),\n",
       "                            ('@seconds', '1978'),\n",
       "                            ('@minutes', '32'),\n",
       "                            ('@isDeparture', 'false'),\n",
       "                            ('@affectedByLayover', 'true'),\n",
       "                            ('@dirTag', '5____I_E00'),\n",
       "                            ('@vehicle', '5438'),\n",
       "                            ('@block', '0510'),\n",
       "                            ('@tripTag', '7216573')]))])]"
      ]
     },
     "execution_count": 94,
     "metadata": {},
     "output_type": "execute_result"
    }
   ],
   "source": [
    "pred['predictions'][2]['direction']"
   ]
  },
  {
   "cell_type": "code",
   "execution_count": null,
   "metadata": {
    "collapsed": true
   },
   "outputs": [],
   "source": []
  }
 ],
 "metadata": {
  "kernelspec": {
   "display_name": "Python 3",
   "language": "python",
   "name": "python3"
  },
  "language_info": {
   "codemirror_mode": {
    "name": "ipython",
    "version": 3
   },
   "file_extension": ".py",
   "mimetype": "text/x-python",
   "name": "python",
   "nbconvert_exporter": "python",
   "pygments_lexer": "ipython3",
   "version": "3.4.3"
  }
 },
 "nbformat": 4,
 "nbformat_minor": 0
}
