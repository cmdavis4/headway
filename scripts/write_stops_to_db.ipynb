{
 "cells": [
  {
   "cell_type": "code",
   "execution_count": 39,
   "metadata": {},
   "outputs": [],
   "source": [
    "import pandas as pd\n",
    "import xmltodict\n",
    "import requests\n",
    "import sys\n",
    "sys.path.append('..')\n",
    "\n",
    "from utils.database import push_dataframe_to_postgres\n",
    "from auth.headway_auth import CHARLES_HEADWAY_AUTH\n",
    "\n",
    "doc = xmltodict.parse(\n",
    "    requests.get('http://webservices.nextbus.com/service/publicXMLFeed?command=routeList&a=sf-muni').text)"
   ]
  },
  {
   "cell_type": "code",
   "execution_count": 40,
   "metadata": {},
   "outputs": [],
   "source": [
    "route_df = pd.DataFrame.from_dict(\n",
    "    doc['body']['route']).rename(columns={'@tag': 'route_id', '@title': 'route_name'})"
   ]
  },
  {
   "cell_type": "code",
   "execution_count": 41,
   "metadata": {},
   "outputs": [],
   "source": [
    "to_concat = []\n",
    "for id in route_df['route_id']:\n",
    "    route_doc = xmltodict.parse(\n",
    "        requests.get('http://webservices.nextbus.com/service/publicXMLFeed?command=routeConfig&a=sf-muni&r=%s' % id).text)\n",
    "    this_route = (pd.DataFrame.from_dict(route_doc['body']['route']['stop']).rename(columns={\n",
    "                '@lat': 'lat',\n",
    "                '@lon': 'lon',\n",
    "                '@stopId': 'stop_id',\n",
    "                '@title': 'stop_name',\n",
    "                '@tag': 'xml_tag'\n",
    "            }))\n",
    "    this_route['route_id'] = id\n",
    "    to_concat.append(this_route)"
   ]
  },
  {
   "cell_type": "code",
   "execution_count": 42,
   "metadata": {},
   "outputs": [],
   "source": [
    "stop_df = pd.concat(to_concat)[['route_id', 'stop_id', 'stop_name', 'xml_tag', 'lat', 'lon']]"
   ]
  },
  {
   "cell_type": "code",
   "execution_count": 43,
   "metadata": {},
   "outputs": [],
   "source": [
    "push_dataframe_to_postgres(route_df, CHARLES_HEADWAY_AUTH, 'routes')\n",
    "push_dataframe_to_postgres(stop_df, CHARLES_HEADWAY_AUTH, 'stops')"
   ]
  },
  {
   "cell_type": "code",
   "execution_count": null,
   "metadata": {},
   "outputs": [],
   "source": [
    ""
   ]
  }
 ],
 "metadata": {
  "kernelspec": {
   "display_name": "Python 3",
   "language": "python",
   "name": "python3"
  },
  "language_info": {
   "codemirror_mode": {
    "name": "ipython",
    "version": 3.0
   },
   "file_extension": ".py",
   "mimetype": "text/x-python",
   "name": "python",
   "nbconvert_exporter": "python",
   "pygments_lexer": "ipython3",
   "version": "3.4.3"
  }
 },
 "nbformat": 4,
 "nbformat_minor": 0
}